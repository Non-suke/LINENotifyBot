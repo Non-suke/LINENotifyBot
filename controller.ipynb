{
 "metadata": {
  "language_info": {
   "codemirror_mode": {
    "name": "ipython",
    "version": 3
   },
   "file_extension": ".py",
   "mimetype": "text/x-python",
   "name": "python",
   "nbconvert_exporter": "python",
   "pygments_lexer": "ipython3",
   "version": "3.8.5-final"
  },
  "orig_nbformat": 2,
  "kernelspec": {
   "name": "python3",
   "display_name": "Python 3",
   "language": "python"
  }
 },
 "nbformat": 4,
 "nbformat_minor": 2,
 "cells": [
  {
   "cell_type": "code",
   "execution_count": 4,
   "metadata": {},
   "outputs": [],
   "source": [
    "import line_notify_bot\n",
    "from line_notify_bot import add_page,remove_page,show_list"
   ]
  },
  {
   "cell_type": "code",
   "execution_count": 5,
   "metadata": {},
   "outputs": [
    {
     "output_type": "stream",
     "name": "stdout",
     "text": [
      "{}\n"
     ]
    }
   ],
   "source": [
    "show_list()"
   ]
  },
  {
   "cell_type": "code",
   "execution_count": 6,
   "metadata": {},
   "outputs": [
    {
     "output_type": "stream",
     "name": "stdout",
     "text": [
      "国立国際 : http://www.hosp.ncgm.go.jp/dce/200/7_tours.html \n",
      "has added to the list\n",
      "東京医療センター : https://tokyo-mc.hosp.go.jp/profession/tour_for_students.html \n",
      "has added to the list\n",
      "多摩総合 : https://www.fuchu-hp.fuchu.tokyo.jp/recruit/medical_resident/seminar/ \n",
      "has added to the list\n"
     ]
    }
   ],
   "source": [
    "add_page('国立国際','http://www.hosp.ncgm.go.jp/dce/200/7_tours.html')\n",
    "add_page('東京医療センター','https://tokyo-mc.hosp.go.jp/profession/tour_for_students.html')\n",
    "add_page('多摩総合','https://www.fuchu-hp.fuchu.tokyo.jp/recruit/medical_resident/seminar/')"
   ]
  },
  {
   "cell_type": "code",
   "execution_count": 7,
   "metadata": {},
   "outputs": [
    {
     "output_type": "stream",
     "name": "stdout",
     "text": [
      "{'国立国際': 'http://www.hosp.ncgm.go.jp/dce/200/7_tours.html', '東京医療センター': 'https://tokyo-mc.hosp.go.jp/profession/tour_for_students.html', '多摩総合': 'https://www.fuchu-hp.fuchu.tokyo.jp/recruit/medical_resident/seminar/'}\n"
     ]
    }
   ],
   "source": [
    "show_list()"
   ]
  }
 ]
}