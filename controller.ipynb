{
 "metadata": {
  "language_info": {
   "codemirror_mode": {
    "name": "ipython",
    "version": 3
   },
   "file_extension": ".py",
   "mimetype": "text/x-python",
   "name": "python",
   "nbconvert_exporter": "python",
   "pygments_lexer": "ipython3",
   "version": "3.8.5-final"
  },
  "orig_nbformat": 2,
  "kernelspec": {
   "name": "python3",
   "display_name": "Python 3",
   "language": "python"
  }
 },
 "nbformat": 4,
 "nbformat_minor": 2,
 "cells": [
  {
   "cell_type": "code",
   "execution_count": 2,
   "metadata": {},
   "outputs": [],
   "source": [
    "import line_notify_bot\n",
    "from line_notify_bot import add_page,remove_page,show_list"
   ]
  },
  {
   "cell_type": "code",
   "execution_count": 3,
   "metadata": {},
   "outputs": [
    {
     "output_type": "stream",
     "name": "stdout",
     "text": [
      "{'国立国際': 'http://www.hosp.ncgm.go.jp/dce/200/7_tours.html', '東京医療センター': 'https://tokyo-mc.hosp.go.jp/profession/tour_for_students.html', '多摩総合': 'https://www.fuchu-hp.fuchu.tokyo.jp/recruit/medical_resident/seminar/', '済生会中央': 'https://www.saichu.jp/jobs/early-stage/visit/', 'ベイ浦安': 'https://tokyobay-mc.jp/resident_program/#10'}\n"
     ]
    }
   ],
   "source": [
    "show_list()"
   ]
  },
  {
   "cell_type": "code",
   "execution_count": 5,
   "metadata": {},
   "outputs": [
    {
     "output_type": "stream",
     "name": "stdout",
     "text": [
      "国立国際 : http://www.hosp.ncgm.go.jp/dce/200/7_tours.html \n",
      "has added to the list\n",
      "東京医療センター : https://tokyo-mc.hosp.go.jp/profession/tour_for_students.html \n",
      "has added to the list\n",
      "多摩総合 : https://www.fuchu-hp.fuchu.tokyo.jp/recruit/medical_resident/seminar/ \n",
      "has added to the list\n",
      "済生会中央 : https://www.saichu.jp/jobs/early-stage/visit/ \n",
      "has added to the list\n",
      "ベイ浦安 : https://tokyobay-mc.jp/resident_program/#10 \n",
      "has added to the list\n",
      "健康長寿 : https://www.tmghig.jp/hospital/recruit/curriculum/kengaku/ \n",
      "has added to the list\n",
      "逓信 : https://www.hospital.japanpost.jp/tokyo/recruitment/doctor/s_rinshou.html#bosyu \n",
      "has added to the list\n"
     ]
    }
   ],
   "source": [
    "add_page('国立国際','http://www.hosp.ncgm.go.jp/dce/200/7_tours.html')\n",
    "add_page('東京医療センター','https://tokyo-mc.hosp.go.jp/profession/tour_for_students.html')\n",
    "add_page('多摩総合','https://www.fuchu-hp.fuchu.tokyo.jp/recruit/medical_resident/seminar/')\n",
    "add_page('済生会中央','https://www.saichu.jp/jobs/early-stage/visit/')\n",
    "add_page('ベイ浦安','https://tokyobay-mc.jp/resident_program/#10')\n",
    "add_page('健康長寿','https://www.tmghig.jp/hospital/recruit/curriculum/kengaku/')\n",
    "add_page('逓信','https://www.hospital.japanpost.jp/tokyo/recruitment/doctor/s_rinshou.html#bosyu')"
   ]
  },
  {
   "cell_type": "code",
   "execution_count": 6,
   "metadata": {},
   "outputs": [
    {
     "output_type": "stream",
     "name": "stdout",
     "text": [
      "{'国立国際': 'http://www.hosp.ncgm.go.jp/dce/200/7_tours.html', '東京医療センター': 'https://tokyo-mc.hosp.go.jp/profession/tour_for_students.html', '多摩総合': 'https://www.fuchu-hp.fuchu.tokyo.jp/recruit/medical_resident/seminar/', '済生会中央': 'https://www.saichu.jp/jobs/early-stage/visit/', 'ベイ浦安': 'https://tokyobay-mc.jp/resident_program/#10', '健康長寿': 'https://www.tmghig.jp/hospital/recruit/curriculum/kengaku/', '逓信': 'https://www.hospital.japanpost.jp/tokyo/recruitment/doctor/s_rinshou.html#bosyu'}\n"
     ]
    }
   ],
   "source": [
    "show_list()"
   ]
  },
  {
   "cell_type": "code",
   "execution_count": null,
   "metadata": {},
   "outputs": [],
   "source": []
  }
 ]
}